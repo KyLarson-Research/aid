{
 "cells": [
  {
   "cell_type": "code",
   "execution_count": null,
   "metadata": {},
   "outputs": [],
   "source": [
    "# aid.ipynb\n",
    "# Author: Kyle Larson\n",
    "# Purpose top secret\n",
    "import numpy as np \n",
    "import soundfile as sf\n",
    "import keras\n",
    "from keras.models import Sequential\n",
    "from keras.layers import Dense, Dropout, Activation\n",
    "from keras.optimizers import SGD\n",
    "# Stack overflow was consulted in order to parse '.flac' \n",
    "#path = '../input/rfcx-species-audio-detection/train/00204008d.flac'\n",
    "#data, samplerate = sf.read(path) #this method is thanks to Harry Moreno \n",
    "#from his Stack Overflow response on June 13 '18 at the following URL:\n",
    "#https://stackoverflow.com/questions/50804170/load-flac-file-in-python-same-as-scipy-or-librosa\n"
   ]
  },
  {
   "cell_type": "code",
   "execution_count": null,
   "metadata": {},
   "outputs": [],
   "source": [
    "import os\n",
    "file_name_list = os.listdir('../input/rfcx-species-audio-detection/train')\n",
    "#the following sequential open strategy was found not to work due to frequency mismatch between id_data and filenames\n",
    "for i in range(len(file_name_list)):#len(id_data) #10 files ~ 5 seconds w/ RAM ~25%\n",
    "    data, samplerate = sf.read('../input/rfcx-species-audio-detection/train/' +file_name_list[i])\n",
    "    new_df1[file_name_list[i]] = np.array(data)\n",
    "    if(i==10):\n",
    "        break\n",
    "new_df1.head() "
   ]
  },
  {
   "cell_type": "code",
   "execution_count": null,
   "metadata": {},
   "outputs": [],
   "source": [
    "#at 1 min 5 sec the following error occured:\n",
    "#Your notebook tried to allocate more memory than is available. It has restarted.\n",
    "#thats 65 seconds or 130 files that can occupy ram at once"
   ]
  }
 ],
 "metadata": {
  "kernelspec": {
   "display_name": "Python 3",
   "language": "python",
   "name": "python3"
  },
  "language_info": {
   "codemirror_mode": {
    "name": "ipython",
    "version": 3
   },
   "file_extension": ".py",
   "mimetype": "text/x-python",
   "name": "python",
   "nbconvert_exporter": "python",
   "pygments_lexer": "ipython3",
   "version": "3.7.6"
  }
 },
 "nbformat": 4,
 "nbformat_minor": 4
}
